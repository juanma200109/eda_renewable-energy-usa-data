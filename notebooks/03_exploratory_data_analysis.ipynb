{
 "cells": [
  {
   "cell_type": "markdown",
   "id": "e9af6565",
   "metadata": {},
   "source": [
    "---\n",
    "# 3. Análisis Exploratorio de Datos (EDA) - Consumo Energía Renovable EE.UU.\n",
    "---\n",
    "## Objetivos del Notebook\n",
    "* Explorar visual y estadísticamente el dataset *limpio*.\n",
    "* Identificar tendencias, patrones y relaciones clave.\n",
    "* Generar insights sobre el consumo de energía renovable por fuente y sector.\n",
    "* Formular hipótesis basadas en los datos."
   ]
  },
  {
   "cell_type": "markdown",
   "id": "7d8b41b5",
   "metadata": {},
   "source": [
    "## 3.2. Configuración del Entorno"
   ]
  },
  {
   "cell_type": "code",
   "execution_count": null,
   "id": "13602bcc",
   "metadata": {},
   "outputs": [],
   "source": [
    "import os\n",
    "import sys\n",
    "import numpy as np\n",
    "import pandas as pd\n",
    "import seaborn as sns\n",
    "import matplotlib.pyplot as plt"
   ]
  }
 ],
 "metadata": {
  "kernelspec": {
   "display_name": "venv",
   "language": "python",
   "name": "python3"
  },
  "language_info": {
   "name": "python",
   "version": "3.11.2"
  }
 },
 "nbformat": 4,
 "nbformat_minor": 5
}
